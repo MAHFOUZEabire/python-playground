{
 "cells": [
  {
   "cell_type": "markdown",
   "metadata": {},
   "source": [
    "# 3. Tri des listes\n"
   ]
  },
  {
   "cell_type": "code",
   "execution_count": 1,
   "metadata": {},
   "outputs": [
    {
     "name": "stdout",
     "output_type": "stream",
     "text": [
      "13 [5, 4, 8, 5, 8, 10, 1, 3, 6, 6, 2, 3, 9]\n"
     ]
    }
   ],
   "source": [
    "ma_liste = [5, 4, 8, 5, 8, 10, 1, 3, 6, 6, 2, 3, 9]\n",
    "print(len(ma_liste), ma_liste)"
   ]
  },
  {
   "cell_type": "markdown",
   "metadata": {},
   "source": [
    "### Méthode de classe / native ```list.sort```"
   ]
  },
  {
   "cell_type": "code",
   "execution_count": 2,
   "metadata": {},
   "outputs": [
    {
     "name": "stdout",
     "output_type": "stream",
     "text": [
      "Help on method_descriptor:\n",
      "\n",
      "sort(self, /, *, key=None, reverse=False)\n",
      "    Sort the list in ascending order and return None.\n",
      "    \n",
      "    The sort is in-place (i.e. the list itself is modified) and stable (i.e. the\n",
      "    order of two equal elements is maintained).\n",
      "    \n",
      "    If a key function is given, apply it once to each list item and sort them,\n",
      "    ascending or descending, according to their function values.\n",
      "    \n",
      "    The reverse flag can be set to sort in descending order.\n",
      "\n"
     ]
    }
   ],
   "source": [
    "help(list.sort)"
   ]
  },
  {
   "cell_type": "code",
   "execution_count": 3,
   "metadata": {},
   "outputs": [
    {
     "name": "stdout",
     "output_type": "stream",
     "text": [
      "[1, 2, 3, 3, 4, 5, 5, 6, 6, 8, 8, 9, 10]\n"
     ]
    }
   ],
   "source": [
    "ma_liste.sort()\n",
    "print(ma_liste)"
   ]
  },
  {
   "cell_type": "code",
   "execution_count": 4,
   "metadata": {},
   "outputs": [
    {
     "name": "stdout",
     "output_type": "stream",
     "text": [
      "[10, 9, 8, 8, 6, 6, 5, 5, 4, 3, 3, 2, 1]\n"
     ]
    }
   ],
   "source": [
    "ma_liste.sort(reverse=True)\n",
    "print(ma_liste)"
   ]
  },
  {
   "cell_type": "markdown",
   "metadata": {},
   "source": [
    "### Méthode ```sorted```"
   ]
  },
  {
   "cell_type": "code",
   "execution_count": 5,
   "metadata": {},
   "outputs": [
    {
     "name": "stdout",
     "output_type": "stream",
     "text": [
      "Help on built-in function sorted in module builtins:\n",
      "\n",
      "sorted(iterable, /, *, key=None, reverse=False)\n",
      "    Return a new list containing all items from the iterable in ascending order.\n",
      "    \n",
      "    A custom key function can be supplied to customize the sort order, and the\n",
      "    reverse flag can be set to request the result in descending order.\n",
      "\n"
     ]
    }
   ],
   "source": [
    "help(sorted)"
   ]
  },
  {
   "cell_type": "code",
   "execution_count": 6,
   "metadata": {},
   "outputs": [
    {
     "data": {
      "text/plain": [
       "[1, 2, 3, 3, 4, 5, 5, 6, 6, 8, 8, 9, 10]"
      ]
     },
     "execution_count": 6,
     "metadata": {},
     "output_type": "execute_result"
    }
   ],
   "source": [
    "ma_liste = [5, 4, 8, 5, 8, 10, 1, 3, 6, 6, 2, 3, 9]\n",
    "sorted(ma_liste)"
   ]
  },
  {
   "cell_type": "code",
   "execution_count": 7,
   "metadata": {},
   "outputs": [
    {
     "data": {
      "text/plain": [
       "[10, 9, 8, 8, 6, 6, 5, 5, 4, 3, 3, 2, 1]"
      ]
     },
     "execution_count": 7,
     "metadata": {},
     "output_type": "execute_result"
    }
   ],
   "source": [
    "sorted(ma_liste, reverse=True)"
   ]
  },
  {
   "cell_type": "markdown",
   "metadata": {},
   "source": [
    "## Exercices"
   ]
  },
  {
   "cell_type": "code",
   "execution_count": 8,
   "metadata": {},
   "outputs": [],
   "source": [
    "ma_liste = [5, 4, 8, 5, 8, 10, 1, 3, 6, 6, 2, 3, 9]"
   ]
  },
  {
   "cell_type": "code",
   "execution_count": null,
   "metadata": {},
   "outputs": [],
   "source": []
  },
  {
   "cell_type": "code",
   "execution_count": 9,
   "metadata": {},
   "outputs": [],
   "source": [
    "# FYI: Implementation demo flag\n",
    "def calculer_somme(L, demo = False):\n",
    "    somme = 0\n",
    "    for i in range(len(L)):\n",
    "        somme += L[i]\n",
    "        if demo:\n",
    "            print(L[i], somme)\n",
    "    return somme"
   ]
  },
  {
   "cell_type": "code",
   "execution_count": 10,
   "metadata": {},
   "outputs": [
    {
     "data": {
      "text/plain": [
       "70"
      ]
     },
     "execution_count": 10,
     "metadata": {},
     "output_type": "execute_result"
    }
   ],
   "source": [
    "ma_liste = [5, 4, 8, 5, 8, 10, 1, 3, 6, 6, 2, 3, 9]\n",
    "calculer_somme(ma_liste)"
   ]
  },
  {
   "cell_type": "code",
   "execution_count": 11,
   "metadata": {},
   "outputs": [
    {
     "name": "stdout",
     "output_type": "stream",
     "text": [
      "5 5\n",
      "4 9\n",
      "8 17\n",
      "5 22\n",
      "8 30\n",
      "10 40\n",
      "1 41\n",
      "3 44\n",
      "6 50\n",
      "6 56\n",
      "2 58\n",
      "3 61\n",
      "9 70\n"
     ]
    },
    {
     "data": {
      "text/plain": [
       "70"
      ]
     },
     "execution_count": 11,
     "metadata": {},
     "output_type": "execute_result"
    }
   ],
   "source": [
    "ma_liste = [5, 4, 8, 5, 8, 10, 1, 3, 6, 6, 2, 3, 9]\n",
    "calculer_somme(ma_liste, demo = True)"
   ]
  },
  {
   "cell_type": "markdown",
   "metadata": {},
   "source": [
    "### Tri par sélection (min)"
   ]
  },
  {
   "cell_type": "markdown",
   "metadata": {},
   "source": [
    "> **Démo avec jeux de cartes**"
   ]
  },
  {
   "cell_type": "markdown",
   "metadata": {},
   "source": [
    "TO DO: Décrivez l'algorithme de tri par sélection en pseudo-code:  \n",
    "\n",
    "rechercher le plus petit élément du **tableau**, ajouter cet élément au nouveau tableau_tri et le supprimer de **tableau**  \n",
    "continuer de cette façon jusqu'à ce que le **tableau** soit vide et tableau_tri entièrement trié.\n",
    "En pseudo-code, l'algorithme s'écrit ainsi :\n",
    "\n",
    "  procédure tri_selection-min( t)\n",
    "  \n",
    "      t-tri=[] \n",
    "     \n",
    "     pour i de 0 à longueur t\n",
    "          \n",
    "          i ->min      \n",
    "        \n",
    "        supprime i de t\n",
    "        \n",
    "        ajoute i à t_tri\n",
    "          \n",
    "     \n",
    "  fin procédure\n",
    "  \n",
    "  \n",
    "--"
   ]
  },
  {
   "cell_type": "code",
   "execution_count": 12,
   "metadata": {},
   "outputs": [],
   "source": [
    "# Implémentation du tri par sélection (utilisant fonction min())\n",
    "def tri_selection(L, demo = False):\n",
    "   \n",
    "    L_tri=[]\n",
    " \n",
    "    for i in range(len(L)):\n",
    "        L_min=min(L)\n",
    "        L.remove(L_min)\n",
    "        L_tri.append(L_min)\n",
    "        \n",
    "    return L_tri\n",
    "  "
   ]
  },
  {
   "cell_type": "code",
   "execution_count": 13,
   "metadata": {},
   "outputs": [
    {
     "data": {
      "text/plain": [
       "[1, 2, 3, 3, 4, 5, 5, 6, 6, 8, 8, 9, 10]"
      ]
     },
     "execution_count": 13,
     "metadata": {},
     "output_type": "execute_result"
    }
   ],
   "source": [
    "ma_liste = [5, 4, 8, 5, 8, 10, 1, 3, 6, 6, 2, 3, 9]\n",
    "tri_selection(ma_liste, True)"
   ]
  },
  {
   "cell_type": "code",
   "execution_count": 14,
   "metadata": {},
   "outputs": [
    {
     "data": {
      "text/plain": [
       "[]"
      ]
     },
     "execution_count": 14,
     "metadata": {},
     "output_type": "execute_result"
    }
   ],
   "source": [
    "ma_liste"
   ]
  },
  {
   "cell_type": "code",
   "execution_count": 15,
   "metadata": {},
   "outputs": [],
   "source": [
    "# Implémentation du tri par sélection (avec ré-implémentation d'une fonction min personnelle)\n",
    "def tri_selection_complet(L, demo = False):\n",
    "    L_tri=[]\n",
    "    for j in range(len(L)):\n",
    "        L_min=L[0]\n",
    "        for i in L:\n",
    "            if i<L_min:\n",
    "                L_min=i\n",
    "        L_tri.append(L_min)\n",
    "        L.remove(L_min)\n",
    "    return L_tri"
   ]
  },
  {
   "cell_type": "code",
   "execution_count": 16,
   "metadata": {},
   "outputs": [
    {
     "data": {
      "text/plain": [
       "[1, 2, 3, 3, 4, 5, 5, 6, 6, 8, 8, 9, 10]"
      ]
     },
     "execution_count": 16,
     "metadata": {},
     "output_type": "execute_result"
    }
   ],
   "source": [
    "ma_liste = [5, 4, 8, 5, 8, 10, 1, 3, 6, 6, 2, 3, 9]\n",
    "tri_selection_complet(ma_liste, True)"
   ]
  },
  {
   "cell_type": "markdown",
   "metadata": {},
   "source": [
    "---"
   ]
  },
  {
   "cell_type": "markdown",
   "metadata": {},
   "source": [
    "### Tri à bulles (ou tri par propagation)"
   ]
  },
  {
   "cell_type": "markdown",
   "metadata": {},
   "source": [
    "> **Démo avec jeux de cartes**"
   ]
  },
  {
   "cell_type": "markdown",
   "metadata": {},
   "source": [
    "Autre illustration (Source: [wikipedia](https://en.wikipedia.org/wiki/Bubble_sort))  "
   ]
  },
  {
   "cell_type": "markdown",
   "metadata": {},
   "source": [
    "![Tri à Bulles](./img/bubble-sort.gif)  \n"
   ]
  },
  {
   "cell_type": "markdown",
   "metadata": {},
   "source": [
    "TO DO: Décrivez l'algorithme du tri à bulles en pseudo-code:  \n",
    "\n",
    "  - Traverser tous les élements du tableau\n",
    "  - si l'élément trouvé est plus grand que le suivant\n",
    "  - échanger\n",
    "  \n",
    "  tri_à_bulles(L)\n",
    "   \n",
    "   pour i allant de (taille de L)\n",
    "       \n",
    "       pour j allant de 0 à (taill de L -1)\n",
    "           si L[j]>L[j+1]\n",
    "               échanger(L[j+1], L[j])\n",
    "  \n",
    "--"
   ]
  },
  {
   "cell_type": "code",
   "execution_count": 17,
   "metadata": {},
   "outputs": [],
   "source": [
    "# Implémentation\n",
    "def tri_bulles(L, demo = False):\n",
    "    compteur=0\n",
    "    \n",
    "    # Traverser tous les éléments du tableau\n",
    "    for i in range(len(L)):\n",
    "        for j in range(0,len(L)-i-1):\n",
    "            compteur+=1\n",
    "            # échanger si l'élément trrouvé est plus grand qque le suivant\n",
    "            if L[j]>L[j+1]:\n",
    "                L[j], L[j+1]=L[j+1], L[j]\n",
    "            if demo:\n",
    "                print(f\"{compteur:3d}:{L}\")\n",
    "    return L"
   ]
  },
  {
   "cell_type": "code",
   "execution_count": 18,
   "metadata": {},
   "outputs": [
    {
     "name": "stdout",
     "output_type": "stream",
     "text": [
      "  1:[4, 5, 8, 5, 8, 10, 1, 3, 6, 6, 2, 3, 9]\n",
      "  2:[4, 5, 8, 5, 8, 10, 1, 3, 6, 6, 2, 3, 9]\n",
      "  3:[4, 5, 5, 8, 8, 10, 1, 3, 6, 6, 2, 3, 9]\n",
      "  4:[4, 5, 5, 8, 8, 10, 1, 3, 6, 6, 2, 3, 9]\n",
      "  5:[4, 5, 5, 8, 8, 10, 1, 3, 6, 6, 2, 3, 9]\n",
      "  6:[4, 5, 5, 8, 8, 1, 10, 3, 6, 6, 2, 3, 9]\n",
      "  7:[4, 5, 5, 8, 8, 1, 3, 10, 6, 6, 2, 3, 9]\n",
      "  8:[4, 5, 5, 8, 8, 1, 3, 6, 10, 6, 2, 3, 9]\n",
      "  9:[4, 5, 5, 8, 8, 1, 3, 6, 6, 10, 2, 3, 9]\n",
      " 10:[4, 5, 5, 8, 8, 1, 3, 6, 6, 2, 10, 3, 9]\n",
      " 11:[4, 5, 5, 8, 8, 1, 3, 6, 6, 2, 3, 10, 9]\n",
      " 12:[4, 5, 5, 8, 8, 1, 3, 6, 6, 2, 3, 9, 10]\n",
      " 13:[4, 5, 5, 8, 8, 1, 3, 6, 6, 2, 3, 9, 10]\n",
      " 14:[4, 5, 5, 8, 8, 1, 3, 6, 6, 2, 3, 9, 10]\n",
      " 15:[4, 5, 5, 8, 8, 1, 3, 6, 6, 2, 3, 9, 10]\n",
      " 16:[4, 5, 5, 8, 8, 1, 3, 6, 6, 2, 3, 9, 10]\n",
      " 17:[4, 5, 5, 8, 1, 8, 3, 6, 6, 2, 3, 9, 10]\n",
      " 18:[4, 5, 5, 8, 1, 3, 8, 6, 6, 2, 3, 9, 10]\n",
      " 19:[4, 5, 5, 8, 1, 3, 6, 8, 6, 2, 3, 9, 10]\n",
      " 20:[4, 5, 5, 8, 1, 3, 6, 6, 8, 2, 3, 9, 10]\n",
      " 21:[4, 5, 5, 8, 1, 3, 6, 6, 2, 8, 3, 9, 10]\n",
      " 22:[4, 5, 5, 8, 1, 3, 6, 6, 2, 3, 8, 9, 10]\n",
      " 23:[4, 5, 5, 8, 1, 3, 6, 6, 2, 3, 8, 9, 10]\n",
      " 24:[4, 5, 5, 8, 1, 3, 6, 6, 2, 3, 8, 9, 10]\n",
      " 25:[4, 5, 5, 8, 1, 3, 6, 6, 2, 3, 8, 9, 10]\n",
      " 26:[4, 5, 5, 8, 1, 3, 6, 6, 2, 3, 8, 9, 10]\n",
      " 27:[4, 5, 5, 1, 8, 3, 6, 6, 2, 3, 8, 9, 10]\n",
      " 28:[4, 5, 5, 1, 3, 8, 6, 6, 2, 3, 8, 9, 10]\n",
      " 29:[4, 5, 5, 1, 3, 6, 8, 6, 2, 3, 8, 9, 10]\n",
      " 30:[4, 5, 5, 1, 3, 6, 6, 8, 2, 3, 8, 9, 10]\n",
      " 31:[4, 5, 5, 1, 3, 6, 6, 2, 8, 3, 8, 9, 10]\n",
      " 32:[4, 5, 5, 1, 3, 6, 6, 2, 3, 8, 8, 9, 10]\n",
      " 33:[4, 5, 5, 1, 3, 6, 6, 2, 3, 8, 8, 9, 10]\n",
      " 34:[4, 5, 5, 1, 3, 6, 6, 2, 3, 8, 8, 9, 10]\n",
      " 35:[4, 5, 5, 1, 3, 6, 6, 2, 3, 8, 8, 9, 10]\n",
      " 36:[4, 5, 1, 5, 3, 6, 6, 2, 3, 8, 8, 9, 10]\n",
      " 37:[4, 5, 1, 3, 5, 6, 6, 2, 3, 8, 8, 9, 10]\n",
      " 38:[4, 5, 1, 3, 5, 6, 6, 2, 3, 8, 8, 9, 10]\n",
      " 39:[4, 5, 1, 3, 5, 6, 6, 2, 3, 8, 8, 9, 10]\n",
      " 40:[4, 5, 1, 3, 5, 6, 2, 6, 3, 8, 8, 9, 10]\n",
      " 41:[4, 5, 1, 3, 5, 6, 2, 3, 6, 8, 8, 9, 10]\n",
      " 42:[4, 5, 1, 3, 5, 6, 2, 3, 6, 8, 8, 9, 10]\n",
      " 43:[4, 5, 1, 3, 5, 6, 2, 3, 6, 8, 8, 9, 10]\n",
      " 44:[4, 1, 5, 3, 5, 6, 2, 3, 6, 8, 8, 9, 10]\n",
      " 45:[4, 1, 3, 5, 5, 6, 2, 3, 6, 8, 8, 9, 10]\n",
      " 46:[4, 1, 3, 5, 5, 6, 2, 3, 6, 8, 8, 9, 10]\n",
      " 47:[4, 1, 3, 5, 5, 6, 2, 3, 6, 8, 8, 9, 10]\n",
      " 48:[4, 1, 3, 5, 5, 2, 6, 3, 6, 8, 8, 9, 10]\n",
      " 49:[4, 1, 3, 5, 5, 2, 3, 6, 6, 8, 8, 9, 10]\n",
      " 50:[4, 1, 3, 5, 5, 2, 3, 6, 6, 8, 8, 9, 10]\n",
      " 51:[1, 4, 3, 5, 5, 2, 3, 6, 6, 8, 8, 9, 10]\n",
      " 52:[1, 3, 4, 5, 5, 2, 3, 6, 6, 8, 8, 9, 10]\n",
      " 53:[1, 3, 4, 5, 5, 2, 3, 6, 6, 8, 8, 9, 10]\n",
      " 54:[1, 3, 4, 5, 5, 2, 3, 6, 6, 8, 8, 9, 10]\n",
      " 55:[1, 3, 4, 5, 2, 5, 3, 6, 6, 8, 8, 9, 10]\n",
      " 56:[1, 3, 4, 5, 2, 3, 5, 6, 6, 8, 8, 9, 10]\n",
      " 57:[1, 3, 4, 5, 2, 3, 5, 6, 6, 8, 8, 9, 10]\n",
      " 58:[1, 3, 4, 5, 2, 3, 5, 6, 6, 8, 8, 9, 10]\n",
      " 59:[1, 3, 4, 5, 2, 3, 5, 6, 6, 8, 8, 9, 10]\n",
      " 60:[1, 3, 4, 5, 2, 3, 5, 6, 6, 8, 8, 9, 10]\n",
      " 61:[1, 3, 4, 2, 5, 3, 5, 6, 6, 8, 8, 9, 10]\n",
      " 62:[1, 3, 4, 2, 3, 5, 5, 6, 6, 8, 8, 9, 10]\n",
      " 63:[1, 3, 4, 2, 3, 5, 5, 6, 6, 8, 8, 9, 10]\n",
      " 64:[1, 3, 4, 2, 3, 5, 5, 6, 6, 8, 8, 9, 10]\n",
      " 65:[1, 3, 4, 2, 3, 5, 5, 6, 6, 8, 8, 9, 10]\n",
      " 66:[1, 3, 2, 4, 3, 5, 5, 6, 6, 8, 8, 9, 10]\n",
      " 67:[1, 3, 2, 3, 4, 5, 5, 6, 6, 8, 8, 9, 10]\n",
      " 68:[1, 3, 2, 3, 4, 5, 5, 6, 6, 8, 8, 9, 10]\n",
      " 69:[1, 3, 2, 3, 4, 5, 5, 6, 6, 8, 8, 9, 10]\n",
      " 70:[1, 2, 3, 3, 4, 5, 5, 6, 6, 8, 8, 9, 10]\n",
      " 71:[1, 2, 3, 3, 4, 5, 5, 6, 6, 8, 8, 9, 10]\n",
      " 72:[1, 2, 3, 3, 4, 5, 5, 6, 6, 8, 8, 9, 10]\n",
      " 73:[1, 2, 3, 3, 4, 5, 5, 6, 6, 8, 8, 9, 10]\n",
      " 74:[1, 2, 3, 3, 4, 5, 5, 6, 6, 8, 8, 9, 10]\n",
      " 75:[1, 2, 3, 3, 4, 5, 5, 6, 6, 8, 8, 9, 10]\n",
      " 76:[1, 2, 3, 3, 4, 5, 5, 6, 6, 8, 8, 9, 10]\n",
      " 77:[1, 2, 3, 3, 4, 5, 5, 6, 6, 8, 8, 9, 10]\n",
      " 78:[1, 2, 3, 3, 4, 5, 5, 6, 6, 8, 8, 9, 10]\n"
     ]
    },
    {
     "data": {
      "text/plain": [
       "[1, 2, 3, 3, 4, 5, 5, 6, 6, 8, 8, 9, 10]"
      ]
     },
     "execution_count": 18,
     "metadata": {},
     "output_type": "execute_result"
    }
   ],
   "source": [
    "ma_liste = [5, 4, 8, 5, 8, 10, 1, 3, 6, 6, 2, 3, 9]\n",
    "tri_bulles(ma_liste, demo = True)"
   ]
  },
  {
   "cell_type": "code",
   "execution_count": 19,
   "metadata": {},
   "outputs": [
    {
     "name": "stdout",
     "output_type": "stream",
     "text": [
      "10 [10, 9, 8, 7, 6, 5, 4, 3, 2, 1]\n"
     ]
    }
   ],
   "source": [
    "pire_cas = [i for i in range(10, 0, -1)]\n",
    "print(len(pire_cas), pire_cas)"
   ]
  },
  {
   "cell_type": "code",
   "execution_count": 20,
   "metadata": {},
   "outputs": [
    {
     "name": "stdout",
     "output_type": "stream",
     "text": [
      "  1:[9, 10, 8, 7, 6, 5, 4, 3, 2, 1]\n",
      "  2:[9, 8, 10, 7, 6, 5, 4, 3, 2, 1]\n",
      "  3:[9, 8, 7, 10, 6, 5, 4, 3, 2, 1]\n",
      "  4:[9, 8, 7, 6, 10, 5, 4, 3, 2, 1]\n",
      "  5:[9, 8, 7, 6, 5, 10, 4, 3, 2, 1]\n",
      "  6:[9, 8, 7, 6, 5, 4, 10, 3, 2, 1]\n",
      "  7:[9, 8, 7, 6, 5, 4, 3, 10, 2, 1]\n",
      "  8:[9, 8, 7, 6, 5, 4, 3, 2, 10, 1]\n",
      "  9:[9, 8, 7, 6, 5, 4, 3, 2, 1, 10]\n",
      " 10:[8, 9, 7, 6, 5, 4, 3, 2, 1, 10]\n",
      " 11:[8, 7, 9, 6, 5, 4, 3, 2, 1, 10]\n",
      " 12:[8, 7, 6, 9, 5, 4, 3, 2, 1, 10]\n",
      " 13:[8, 7, 6, 5, 9, 4, 3, 2, 1, 10]\n",
      " 14:[8, 7, 6, 5, 4, 9, 3, 2, 1, 10]\n",
      " 15:[8, 7, 6, 5, 4, 3, 9, 2, 1, 10]\n",
      " 16:[8, 7, 6, 5, 4, 3, 2, 9, 1, 10]\n",
      " 17:[8, 7, 6, 5, 4, 3, 2, 1, 9, 10]\n",
      " 18:[7, 8, 6, 5, 4, 3, 2, 1, 9, 10]\n",
      " 19:[7, 6, 8, 5, 4, 3, 2, 1, 9, 10]\n",
      " 20:[7, 6, 5, 8, 4, 3, 2, 1, 9, 10]\n",
      " 21:[7, 6, 5, 4, 8, 3, 2, 1, 9, 10]\n",
      " 22:[7, 6, 5, 4, 3, 8, 2, 1, 9, 10]\n",
      " 23:[7, 6, 5, 4, 3, 2, 8, 1, 9, 10]\n",
      " 24:[7, 6, 5, 4, 3, 2, 1, 8, 9, 10]\n",
      " 25:[6, 7, 5, 4, 3, 2, 1, 8, 9, 10]\n",
      " 26:[6, 5, 7, 4, 3, 2, 1, 8, 9, 10]\n",
      " 27:[6, 5, 4, 7, 3, 2, 1, 8, 9, 10]\n",
      " 28:[6, 5, 4, 3, 7, 2, 1, 8, 9, 10]\n",
      " 29:[6, 5, 4, 3, 2, 7, 1, 8, 9, 10]\n",
      " 30:[6, 5, 4, 3, 2, 1, 7, 8, 9, 10]\n",
      " 31:[5, 6, 4, 3, 2, 1, 7, 8, 9, 10]\n",
      " 32:[5, 4, 6, 3, 2, 1, 7, 8, 9, 10]\n",
      " 33:[5, 4, 3, 6, 2, 1, 7, 8, 9, 10]\n",
      " 34:[5, 4, 3, 2, 6, 1, 7, 8, 9, 10]\n",
      " 35:[5, 4, 3, 2, 1, 6, 7, 8, 9, 10]\n",
      " 36:[4, 5, 3, 2, 1, 6, 7, 8, 9, 10]\n",
      " 37:[4, 3, 5, 2, 1, 6, 7, 8, 9, 10]\n",
      " 38:[4, 3, 2, 5, 1, 6, 7, 8, 9, 10]\n",
      " 39:[4, 3, 2, 1, 5, 6, 7, 8, 9, 10]\n",
      " 40:[3, 4, 2, 1, 5, 6, 7, 8, 9, 10]\n",
      " 41:[3, 2, 4, 1, 5, 6, 7, 8, 9, 10]\n",
      " 42:[3, 2, 1, 4, 5, 6, 7, 8, 9, 10]\n",
      " 43:[2, 3, 1, 4, 5, 6, 7, 8, 9, 10]\n",
      " 44:[2, 1, 3, 4, 5, 6, 7, 8, 9, 10]\n",
      " 45:[1, 2, 3, 4, 5, 6, 7, 8, 9, 10]\n"
     ]
    },
    {
     "data": {
      "text/plain": [
       "[1, 2, 3, 4, 5, 6, 7, 8, 9, 10]"
      ]
     },
     "execution_count": 20,
     "metadata": {},
     "output_type": "execute_result"
    }
   ],
   "source": [
    "tri_bulles(pire_cas, True)"
   ]
  },
  {
   "cell_type": "code",
   "execution_count": 21,
   "metadata": {},
   "outputs": [
    {
     "data": {
      "text/plain": [
       "45"
      ]
     },
     "execution_count": 21,
     "metadata": {},
     "output_type": "execute_result"
    }
   ],
   "source": [
    "# Le nb d'itérations dans ce cas est: n * (n + 1) / 2)\n",
    "9 + 8 + 7 + 6 + 5 + 4 + 3 + 2 + 1"
   ]
  },
  {
   "cell_type": "code",
   "execution_count": 22,
   "metadata": {},
   "outputs": [
    {
     "data": {
      "text/plain": [
       "45"
      ]
     },
     "execution_count": 22,
     "metadata": {},
     "output_type": "execute_result"
    }
   ],
   "source": [
    "# Ce qui est égal à n * (n + 1) / 2  avec n = 9\n",
    "9 * 10 // 2"
   ]
  },
  {
   "cell_type": "code",
   "execution_count": null,
   "metadata": {},
   "outputs": [],
   "source": []
  },
  {
   "cell_type": "markdown",
   "metadata": {},
   "source": [
    "---\n",
    "## Application à une liste de chaînes de caractère"
   ]
  },
  {
   "cell_type": "markdown",
   "metadata": {},
   "source": [
    "**Rappel: Comparaison de chaînes de caractères**"
   ]
  },
  {
   "cell_type": "code",
   "execution_count": 23,
   "metadata": {},
   "outputs": [
    {
     "data": {
      "text/plain": [
       "False"
      ]
     },
     "execution_count": 23,
     "metadata": {},
     "output_type": "execute_result"
    }
   ],
   "source": [
    "\"Abc\" > \"cdf\""
   ]
  },
  {
   "cell_type": "code",
   "execution_count": 24,
   "metadata": {},
   "outputs": [
    {
     "data": {
      "text/plain": [
       "True"
      ]
     },
     "execution_count": 24,
     "metadata": {},
     "output_type": "execute_result"
    }
   ],
   "source": [
    "\"A\"<\"B\""
   ]
  },
  {
   "cell_type": "code",
   "execution_count": 25,
   "metadata": {},
   "outputs": [
    {
     "data": {
      "text/plain": [
       "True"
      ]
     },
     "execution_count": 25,
     "metadata": {},
     "output_type": "execute_result"
    }
   ],
   "source": [
    "\"Z\" < \"a\""
   ]
  },
  {
   "cell_type": "code",
   "execution_count": 26,
   "metadata": {},
   "outputs": [
    {
     "data": {
      "text/plain": [
       "True"
      ]
     },
     "execution_count": 26,
     "metadata": {},
     "output_type": "execute_result"
    }
   ],
   "source": [
    "\"Vincent\" > \"Christophe\""
   ]
  },
  {
   "cell_type": "code",
   "execution_count": 27,
   "metadata": {},
   "outputs": [
    {
     "data": {
      "text/plain": [
       "False"
      ]
     },
     "execution_count": 27,
     "metadata": {},
     "output_type": "execute_result"
    }
   ],
   "source": [
    "\"Vincent\" > \"christophe\""
   ]
  },
  {
   "cell_type": "code",
   "execution_count": null,
   "metadata": {},
   "outputs": [],
   "source": [
    "\n"
   ]
  },
  {
   "cell_type": "code",
   "execution_count": 28,
   "metadata": {},
   "outputs": [],
   "source": [
    "promo = ['Théo', 'Philippe', 'Lamia', 'Marvin', \n",
    "         'Maëlle', 'Yoann', 'Jonathan', 'Corentin', \n",
    "         'Joris', 'Matthias', 'Alicia', 'Izak', \n",
    "         'Mayel', 'Corentin', 'Jordan', 'Abire' \n",
    "]"
   ]
  },
  {
   "cell_type": "code",
   "execution_count": 29,
   "metadata": {},
   "outputs": [
    {
     "data": {
      "text/plain": [
       "['Abire',\n",
       " 'Alicia',\n",
       " 'Corentin',\n",
       " 'Corentin',\n",
       " 'Izak',\n",
       " 'Jonathan',\n",
       " 'Jordan',\n",
       " 'Joris',\n",
       " 'Lamia',\n",
       " 'Marvin',\n",
       " 'Matthias',\n",
       " 'Mayel',\n",
       " 'Maëlle',\n",
       " 'Philippe',\n",
       " 'Théo',\n",
       " 'Yoann']"
      ]
     },
     "execution_count": 29,
     "metadata": {},
     "output_type": "execute_result"
    }
   ],
   "source": [
    "sorted(promo)"
   ]
  },
  {
   "cell_type": "code",
   "execution_count": 35,
   "metadata": {},
   "outputs": [
    {
     "data": {
      "text/plain": [
       "['Abire',\n",
       " 'Alicia',\n",
       " 'Corentin',\n",
       " 'Corentin',\n",
       " 'Izak',\n",
       " 'Jonathan',\n",
       " 'Jordan',\n",
       " 'Joris',\n",
       " 'Lamia',\n",
       " 'Marvin',\n",
       " 'Matthias',\n",
       " 'Mayel',\n",
       " 'Maëlle',\n",
       " 'Philippe',\n",
       " 'Théo',\n",
       " 'Yoann']"
      ]
     },
     "execution_count": 35,
     "metadata": {},
     "output_type": "execute_result"
    }
   ],
   "source": [
    "tri_bulles(promo, False)"
   ]
  },
  {
   "cell_type": "code",
   "execution_count": null,
   "metadata": {},
   "outputs": [],
   "source": []
  },
  {
   "cell_type": "markdown",
   "metadata": {},
   "source": [
    "---\n",
    "## Pour aller plus loin\n",
    "\n",
    "Voir \n",
    "- [Complexité algorithmique en temps](https://fr.wikipedia.org/wiki/Complexit%C3%A9_en_temps)\n",
    "- [Algorithme de tri sur Wikipedia](https://fr.wikipedia.org/wiki/Algorithme_de_tri)"
   ]
  },
  {
   "cell_type": "code",
   "execution_count": null,
   "metadata": {},
   "outputs": [],
   "source": []
  },
  {
   "cell_type": "markdown",
   "metadata": {},
   "source": [
    "### Tri à bulles optimisé\n",
    "TO DO: Imaginer ou rechercher sur internet une possibilité d'améliorer le tri à bulles\n",
    "\n",
    "tri_à_bulles_optimisé(Tableau T) \n",
    "\n",
    "   pour i allant de 0 à (taille de T)\n",
    "   \n",
    "        tableau_trié := vrai\n",
    "        pour j allant de 0 à (taille de T)-i-1\n",
    "            si T[j+1] < T[j]\n",
    "                échanger(T[j+1], T[j])\n",
    "                tableau_trié := faux\n",
    "        si tableau_trié\n",
    "            fin tri_à_bulles_optimisé"
   ]
  },
  {
   "cell_type": "code",
   "execution_count": 31,
   "metadata": {},
   "outputs": [],
   "source": [
    "def tri_bulles_optimise(L,demo):\n",
    "    compteur=0\n",
    "    for i in range(len(L)):\n",
    "        L_tri=True\n",
    "        for j in range(0,len(L)-i-1):\n",
    "            compteur+=1\n",
    "            if L[j]>L[j+1]:\n",
    "                L[j], L[j+1]=L[j+1], L[j]\n",
    "                L_tri=False\n",
    "            if demo:\n",
    "                    print(f\"{compteur:3d}:{L}\")\n",
    "        if L_tri:\n",
    "            return L\n",
    "                        \n",
    "  \n",
    "             \n"
   ]
  },
  {
   "cell_type": "code",
   "execution_count": 32,
   "metadata": {},
   "outputs": [
    {
     "name": "stdout",
     "output_type": "stream",
     "text": [
      "  1:[4, 5, 8, 5, 8, 10, 1, 3, 6, 6, 2, 3, 9]\n",
      "  2:[4, 5, 8, 5, 8, 10, 1, 3, 6, 6, 2, 3, 9]\n",
      "  3:[4, 5, 5, 8, 8, 10, 1, 3, 6, 6, 2, 3, 9]\n",
      "  4:[4, 5, 5, 8, 8, 10, 1, 3, 6, 6, 2, 3, 9]\n",
      "  5:[4, 5, 5, 8, 8, 10, 1, 3, 6, 6, 2, 3, 9]\n",
      "  6:[4, 5, 5, 8, 8, 1, 10, 3, 6, 6, 2, 3, 9]\n",
      "  7:[4, 5, 5, 8, 8, 1, 3, 10, 6, 6, 2, 3, 9]\n",
      "  8:[4, 5, 5, 8, 8, 1, 3, 6, 10, 6, 2, 3, 9]\n",
      "  9:[4, 5, 5, 8, 8, 1, 3, 6, 6, 10, 2, 3, 9]\n",
      " 10:[4, 5, 5, 8, 8, 1, 3, 6, 6, 2, 10, 3, 9]\n",
      " 11:[4, 5, 5, 8, 8, 1, 3, 6, 6, 2, 3, 10, 9]\n",
      " 12:[4, 5, 5, 8, 8, 1, 3, 6, 6, 2, 3, 9, 10]\n",
      " 13:[4, 5, 5, 8, 8, 1, 3, 6, 6, 2, 3, 9, 10]\n",
      " 14:[4, 5, 5, 8, 8, 1, 3, 6, 6, 2, 3, 9, 10]\n",
      " 15:[4, 5, 5, 8, 8, 1, 3, 6, 6, 2, 3, 9, 10]\n",
      " 16:[4, 5, 5, 8, 8, 1, 3, 6, 6, 2, 3, 9, 10]\n",
      " 17:[4, 5, 5, 8, 1, 8, 3, 6, 6, 2, 3, 9, 10]\n",
      " 18:[4, 5, 5, 8, 1, 3, 8, 6, 6, 2, 3, 9, 10]\n",
      " 19:[4, 5, 5, 8, 1, 3, 6, 8, 6, 2, 3, 9, 10]\n",
      " 20:[4, 5, 5, 8, 1, 3, 6, 6, 8, 2, 3, 9, 10]\n",
      " 21:[4, 5, 5, 8, 1, 3, 6, 6, 2, 8, 3, 9, 10]\n",
      " 22:[4, 5, 5, 8, 1, 3, 6, 6, 2, 3, 8, 9, 10]\n",
      " 23:[4, 5, 5, 8, 1, 3, 6, 6, 2, 3, 8, 9, 10]\n",
      " 24:[4, 5, 5, 8, 1, 3, 6, 6, 2, 3, 8, 9, 10]\n",
      " 25:[4, 5, 5, 8, 1, 3, 6, 6, 2, 3, 8, 9, 10]\n",
      " 26:[4, 5, 5, 8, 1, 3, 6, 6, 2, 3, 8, 9, 10]\n",
      " 27:[4, 5, 5, 1, 8, 3, 6, 6, 2, 3, 8, 9, 10]\n",
      " 28:[4, 5, 5, 1, 3, 8, 6, 6, 2, 3, 8, 9, 10]\n",
      " 29:[4, 5, 5, 1, 3, 6, 8, 6, 2, 3, 8, 9, 10]\n",
      " 30:[4, 5, 5, 1, 3, 6, 6, 8, 2, 3, 8, 9, 10]\n",
      " 31:[4, 5, 5, 1, 3, 6, 6, 2, 8, 3, 8, 9, 10]\n",
      " 32:[4, 5, 5, 1, 3, 6, 6, 2, 3, 8, 8, 9, 10]\n",
      " 33:[4, 5, 5, 1, 3, 6, 6, 2, 3, 8, 8, 9, 10]\n",
      " 34:[4, 5, 5, 1, 3, 6, 6, 2, 3, 8, 8, 9, 10]\n",
      " 35:[4, 5, 5, 1, 3, 6, 6, 2, 3, 8, 8, 9, 10]\n",
      " 36:[4, 5, 1, 5, 3, 6, 6, 2, 3, 8, 8, 9, 10]\n",
      " 37:[4, 5, 1, 3, 5, 6, 6, 2, 3, 8, 8, 9, 10]\n",
      " 38:[4, 5, 1, 3, 5, 6, 6, 2, 3, 8, 8, 9, 10]\n",
      " 39:[4, 5, 1, 3, 5, 6, 6, 2, 3, 8, 8, 9, 10]\n",
      " 40:[4, 5, 1, 3, 5, 6, 2, 6, 3, 8, 8, 9, 10]\n",
      " 41:[4, 5, 1, 3, 5, 6, 2, 3, 6, 8, 8, 9, 10]\n",
      " 42:[4, 5, 1, 3, 5, 6, 2, 3, 6, 8, 8, 9, 10]\n",
      " 43:[4, 5, 1, 3, 5, 6, 2, 3, 6, 8, 8, 9, 10]\n",
      " 44:[4, 1, 5, 3, 5, 6, 2, 3, 6, 8, 8, 9, 10]\n",
      " 45:[4, 1, 3, 5, 5, 6, 2, 3, 6, 8, 8, 9, 10]\n",
      " 46:[4, 1, 3, 5, 5, 6, 2, 3, 6, 8, 8, 9, 10]\n",
      " 47:[4, 1, 3, 5, 5, 6, 2, 3, 6, 8, 8, 9, 10]\n",
      " 48:[4, 1, 3, 5, 5, 2, 6, 3, 6, 8, 8, 9, 10]\n",
      " 49:[4, 1, 3, 5, 5, 2, 3, 6, 6, 8, 8, 9, 10]\n",
      " 50:[4, 1, 3, 5, 5, 2, 3, 6, 6, 8, 8, 9, 10]\n",
      " 51:[1, 4, 3, 5, 5, 2, 3, 6, 6, 8, 8, 9, 10]\n",
      " 52:[1, 3, 4, 5, 5, 2, 3, 6, 6, 8, 8, 9, 10]\n",
      " 53:[1, 3, 4, 5, 5, 2, 3, 6, 6, 8, 8, 9, 10]\n",
      " 54:[1, 3, 4, 5, 5, 2, 3, 6, 6, 8, 8, 9, 10]\n",
      " 55:[1, 3, 4, 5, 2, 5, 3, 6, 6, 8, 8, 9, 10]\n",
      " 56:[1, 3, 4, 5, 2, 3, 5, 6, 6, 8, 8, 9, 10]\n",
      " 57:[1, 3, 4, 5, 2, 3, 5, 6, 6, 8, 8, 9, 10]\n",
      " 58:[1, 3, 4, 5, 2, 3, 5, 6, 6, 8, 8, 9, 10]\n",
      " 59:[1, 3, 4, 5, 2, 3, 5, 6, 6, 8, 8, 9, 10]\n",
      " 60:[1, 3, 4, 5, 2, 3, 5, 6, 6, 8, 8, 9, 10]\n",
      " 61:[1, 3, 4, 2, 5, 3, 5, 6, 6, 8, 8, 9, 10]\n",
      " 62:[1, 3, 4, 2, 3, 5, 5, 6, 6, 8, 8, 9, 10]\n",
      " 63:[1, 3, 4, 2, 3, 5, 5, 6, 6, 8, 8, 9, 10]\n",
      " 64:[1, 3, 4, 2, 3, 5, 5, 6, 6, 8, 8, 9, 10]\n",
      " 65:[1, 3, 4, 2, 3, 5, 5, 6, 6, 8, 8, 9, 10]\n",
      " 66:[1, 3, 2, 4, 3, 5, 5, 6, 6, 8, 8, 9, 10]\n",
      " 67:[1, 3, 2, 3, 4, 5, 5, 6, 6, 8, 8, 9, 10]\n",
      " 68:[1, 3, 2, 3, 4, 5, 5, 6, 6, 8, 8, 9, 10]\n",
      " 69:[1, 3, 2, 3, 4, 5, 5, 6, 6, 8, 8, 9, 10]\n",
      " 70:[1, 2, 3, 3, 4, 5, 5, 6, 6, 8, 8, 9, 10]\n",
      " 71:[1, 2, 3, 3, 4, 5, 5, 6, 6, 8, 8, 9, 10]\n",
      " 72:[1, 2, 3, 3, 4, 5, 5, 6, 6, 8, 8, 9, 10]\n",
      " 73:[1, 2, 3, 3, 4, 5, 5, 6, 6, 8, 8, 9, 10]\n",
      " 74:[1, 2, 3, 3, 4, 5, 5, 6, 6, 8, 8, 9, 10]\n",
      " 75:[1, 2, 3, 3, 4, 5, 5, 6, 6, 8, 8, 9, 10]\n"
     ]
    },
    {
     "data": {
      "text/plain": [
       "[1, 2, 3, 3, 4, 5, 5, 6, 6, 8, 8, 9, 10]"
      ]
     },
     "execution_count": 32,
     "metadata": {},
     "output_type": "execute_result"
    }
   ],
   "source": [
    "ma_liste = [5, 4, 8, 5, 8, 10, 1, 3, 6, 6, 2, 3, 9]\n",
    "tri_bulles_optimise(ma_liste, demo=True)"
   ]
  },
  {
   "cell_type": "code",
   "execution_count": null,
   "metadata": {},
   "outputs": [],
   "source": []
  },
  {
   "cell_type": "markdown",
   "metadata": {},
   "source": [
    "### Tri fusion (merge sort)"
   ]
  },
  {
   "cell_type": "code",
   "execution_count": 49,
   "metadata": {},
   "outputs": [],
   "source": [
    "def tri_fusion(L):\n",
    "\n",
    "   print(\"division \",L)\n",
    "   if len(L)>1:\n",
    "       milieu = len(L)//2\n",
    "       milieu_gauche = L[:milieu]\n",
    "       milieu_droit= L[milieu:]\n",
    "\n",
    "       #recursion\n",
    "       tri_fusion(milieu_gauche)\n",
    "       tri_fusion(milieu_droit)\n",
    "\n",
    "       i=0\n",
    "       j=0\n",
    "       k=0\n",
    "\n",
    "       while i < len(milieu_gauche) and j < len(milieu_droit):\n",
    "           if milieu_gauche[i] < milieu_droit[j]:\n",
    "               L[k]=milieu_gauche[i]\n",
    "               i=i+1\n",
    "           else:\n",
    "               L[k]=milieu_droit[j]\n",
    "               j=j+1\n",
    "           k=k+1\n",
    "\n",
    "       while i < len(milieu_gauche):\n",
    "           L[k]=milieu_gauche[i]\n",
    "           i=i+1\n",
    "           k=k+1\n",
    "\n",
    "       while j < len(milieu_droit):\n",
    "           L[k]=milieu_droit[j]\n",
    "           j=j+1\n",
    "           k=k+1\n",
    "\n",
    "   print(\"fusion \",L)\n"
   ]
  },
  {
   "cell_type": "code",
   "execution_count": 50,
   "metadata": {},
   "outputs": [
    {
     "name": "stdout",
     "output_type": "stream",
     "text": [
      "division  [5, 4, 8, 5, 8, 10, 1, 3, 6, 6, 2, 3, 9]\n",
      "division  [5, 4, 8, 5, 8, 10]\n",
      "division  [5, 4, 8]\n",
      "division  [5]\n",
      "fusion  [5]\n",
      "division  [4, 8]\n",
      "division  [4]\n",
      "fusion  [4]\n",
      "division  [8]\n",
      "fusion  [8]\n",
      "fusion  [4, 8]\n",
      "fusion  [4, 5, 8]\n",
      "division  [5, 8, 10]\n",
      "division  [5]\n",
      "fusion  [5]\n",
      "division  [8, 10]\n",
      "division  [8]\n",
      "fusion  [8]\n",
      "division  [10]\n",
      "fusion  [10]\n",
      "fusion  [8, 10]\n",
      "fusion  [5, 8, 10]\n",
      "fusion  [4, 5, 5, 8, 8, 10]\n",
      "division  [1, 3, 6, 6, 2, 3, 9]\n",
      "division  [1, 3, 6]\n",
      "division  [1]\n",
      "fusion  [1]\n",
      "division  [3, 6]\n",
      "division  [3]\n",
      "fusion  [3]\n",
      "division  [6]\n",
      "fusion  [6]\n",
      "fusion  [3, 6]\n",
      "fusion  [1, 3, 6]\n",
      "division  [6, 2, 3, 9]\n",
      "division  [6, 2]\n",
      "division  [6]\n",
      "fusion  [6]\n",
      "division  [2]\n",
      "fusion  [2]\n",
      "fusion  [2, 6]\n",
      "division  [3, 9]\n",
      "division  [3]\n",
      "fusion  [3]\n",
      "division  [9]\n",
      "fusion  [9]\n",
      "fusion  [3, 9]\n",
      "fusion  [2, 3, 6, 9]\n",
      "fusion  [1, 2, 3, 3, 6, 6, 9]\n",
      "fusion  [1, 2, 3, 3, 4, 5, 5, 6, 6, 8, 8, 9, 10]\n"
     ]
    }
   ],
   "source": [
    "ma_liste = [5, 4, 8, 5, 8, 10, 1, 3, 6, 6, 2, 3, 9]\n",
    "tri_fusion(ma_liste)"
   ]
  },
  {
   "cell_type": "code",
   "execution_count": null,
   "metadata": {},
   "outputs": [],
   "source": []
  },
  {
   "cell_type": "code",
   "execution_count": null,
   "metadata": {},
   "outputs": [],
   "source": []
  }
 ],
 "metadata": {
  "kernelspec": {
   "display_name": "Python 3",
   "language": "python",
   "name": "python3"
  },
  "language_info": {
   "codemirror_mode": {
    "name": "ipython",
    "version": 3
   },
   "file_extension": ".py",
   "mimetype": "text/x-python",
   "name": "python",
   "nbconvert_exporter": "python",
   "pygments_lexer": "ipython3",
   "version": "3.8.6"
  }
 },
 "nbformat": 4,
 "nbformat_minor": 4
}
